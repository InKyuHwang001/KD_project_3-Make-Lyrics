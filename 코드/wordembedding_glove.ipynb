{
  "nbformat": 4,
  "nbformat_minor": 0,
  "metadata": {
    "colab": {
      "name": "wordembedding_glove.ipynb",
      "provenance": [],
      "machine_shape": "hm",
      "background_execution": "on",
      "collapsed_sections": []
    },
    "kernelspec": {
      "name": "python3",
      "display_name": "Python 3"
    },
    "language_info": {
      "name": "python"
    },
    "accelerator": "GPU"
  },
  "cells": [
    {
      "cell_type": "markdown",
      "metadata": {
        "id": "view-in-github"
      },
      "source": [
        "<a href=\"https://colab.research.google.com/github/Hongbi-Kim/Writing_lyrics/blob/master/wordembedding_glove.ipynb\" target=\"_parent\"><img src=\"https://colab.research.google.com/assets/colab-badge.svg\" alt=\"Open In Colab\"/></a>"
      ]
    },
    {
      "cell_type": "code",
      "source": [
        "import pandas as pd\n",
        "import numpy as np\n",
        "import matplotlib.pyplot as plt\n",
        "from sklearn.manifold import TSNE"
      ],
      "metadata": {
        "id": "67bkXNJX2h8A"
      },
      "execution_count": null,
      "outputs": []
    },
    {
      "cell_type": "code",
      "source": [
        "# colab 폰트 오류\n",
        "!sudo apt-get install -y fonts-nanum\n",
        "!sudo fc-cache -fv\n",
        "!rm ~/.cache/matplotlib -rf\n",
        "\n",
        "import matplotlib.pyplot as plt\n",
        "\n",
        "plt.rc('font', family='NanumBarunGothic') "
      ],
      "metadata": {
        "colab": {
          "base_uri": "https://localhost:8080/"
        },
        "id": "IfP9_X8VjDjG",
        "outputId": "396fe86b-4c9d-42da-d677-42427e7c6514"
      },
      "execution_count": null,
      "outputs": [
        {
          "output_type": "stream",
          "name": "stdout",
          "text": [
            "Reading package lists... Done\n",
            "Building dependency tree       \n",
            "Reading state information... Done\n",
            "The following NEW packages will be installed:\n",
            "  fonts-nanum\n",
            "0 upgraded, 1 newly installed, 0 to remove and 39 not upgraded.\n",
            "Need to get 9,604 kB of archives.\n",
            "After this operation, 29.5 MB of additional disk space will be used.\n",
            "Get:1 http://archive.ubuntu.com/ubuntu bionic/universe amd64 fonts-nanum all 20170925-1 [9,604 kB]\n",
            "Fetched 9,604 kB in 1s (7,321 kB/s)\n",
            "debconf: unable to initialize frontend: Dialog\n",
            "debconf: (No usable dialog-like program is installed, so the dialog based frontend cannot be used. at /usr/share/perl5/Debconf/FrontEnd/Dialog.pm line 76, <> line 1.)\n",
            "debconf: falling back to frontend: Readline\n",
            "debconf: unable to initialize frontend: Readline\n",
            "debconf: (This frontend requires a controlling tty.)\n",
            "debconf: falling back to frontend: Teletype\n",
            "dpkg-preconfigure: unable to re-open stdin: \n",
            "Selecting previously unselected package fonts-nanum.\n",
            "(Reading database ... 156210 files and directories currently installed.)\n",
            "Preparing to unpack .../fonts-nanum_20170925-1_all.deb ...\n",
            "Unpacking fonts-nanum (20170925-1) ...\n",
            "Setting up fonts-nanum (20170925-1) ...\n",
            "Processing triggers for fontconfig (2.12.6-0ubuntu2) ...\n",
            "/usr/share/fonts: caching, new cache contents: 0 fonts, 1 dirs\n",
            "/usr/share/fonts/truetype: caching, new cache contents: 0 fonts, 3 dirs\n",
            "/usr/share/fonts/truetype/humor-sans: caching, new cache contents: 1 fonts, 0 dirs\n",
            "/usr/share/fonts/truetype/liberation: caching, new cache contents: 16 fonts, 0 dirs\n",
            "/usr/share/fonts/truetype/nanum: caching, new cache contents: 10 fonts, 0 dirs\n",
            "/usr/local/share/fonts: caching, new cache contents: 0 fonts, 0 dirs\n",
            "/root/.local/share/fonts: skipping, no such directory\n",
            "/root/.fonts: skipping, no such directory\n",
            "/var/cache/fontconfig: cleaning cache directory\n",
            "/root/.cache/fontconfig: not cleaning non-existent cache directory\n",
            "/root/.fontconfig: not cleaning non-existent cache directory\n",
            "fc-cache: succeeded\n"
          ]
        }
      ]
    },
    {
      "cell_type": "code",
      "source": [
        "df = pd.read_pickle('/content/drive/MyDrive/5조_파이널PJT/코드/data/melon_mecab.pkl')"
      ],
      "metadata": {
        "id": "Y_PSWHyE2m5x"
      },
      "execution_count": null,
      "outputs": []
    },
    {
      "cell_type": "code",
      "source": [
        "df"
      ],
      "metadata": {
        "colab": {
          "base_uri": "https://localhost:8080/",
          "height": 988
        },
        "id": "8kzHco8lEzmr",
        "outputId": "41eded1c-6fe3-42d1-e065-ddf7250c0b7b"
      },
      "execution_count": null,
      "outputs": [
        {
          "output_type": "execute_result",
          "data": {
            "text/plain": [
              "       pages   rank                                              title  \\\n",
              "0          1      1                                             사랑인가 봐   \n",
              "1          1      2                                               취중고백   \n",
              "2          1      3                                             듣고 싶을까   \n",
              "3          1      4                                          사랑은 늘 도망가   \n",
              "4          1      5                                            언제나 사랑해   \n",
              "...      ...    ...                                                ...   \n",
              "94608  26101  26146                              음주운전 하지마 (하지마송part.1)   \n",
              "94609  26101  26147  All I Want for Christmas Is You (Feat. Edward ...   \n",
              "94610  26101  26148                                  Starlight (inst.)   \n",
              "94611  26101  26149                                        사막별 (inst.)   \n",
              "94612  26101  26150                                    힘내라 친구야 (Inst.)   \n",
              "\n",
              "                                                   lyric  \\\n",
              "0      너와 함께 하고 싶은 일들을\\n상상하는 게\\n요즘 내 일상이 되고\\n너의 즐거워하는...   \n",
              "1      뭐하고 있었니 늦었지만\\n잠시 나올래\\n너의 집 골목에 있는\\n놀이터에 앉아 있어\\...   \n",
              "2      우리 함께 듣던 그 노랠 듣고 싶을까\\n듣고 나서 잠시 날 생각은 할까\\n아주 혹시...   \n",
              "3      눈물이 난다 이 길을 걸으면\\n그 사람 손길이 자꾸 생각이 난다\\n붙잡지 못하고 가...   \n",
              "4      둘이 손잡고 걸을 때\\n마주 보며 또 웃을 때\\n사랑한다 말하지 않아도 알아\\n널 ...   \n",
              "...                                                  ...   \n",
              "94608  하지마 하지마 음주운전 하지마\\n하지마 하지마 음주운전 하지마\\n술먹고 운전했었어\\...   \n",
              "94609  Merry christmas\\n큰마음 먹고 널 위해 준비한 데이트\\n나 홀로 집에 ...   \n",
              "94610  저 떨어지는 별에 빌었어\\n지금 네 맘도 나와 똑같기를\\n잠든 밤이 지나고 네가 떠...   \n",
              "94611  소중한 무언가를 난 또 쫓고 있어\\n어떤 모양인지조차\\n생각해 볼 순간도 없고\\n너...   \n",
              "94612  마시자 잔을 들어 친구야\\n사느라고 고생이 많다\\n막힌 현실에 갇혀 살아도\\n잘 버...   \n",
              "\n",
              "                                artist      genres                 writer  \\\n",
              "0                                 멜로망스  발라드, 국내드라마             김민석 (멜로망스)   \n",
              "1                           김민석 (멜로망스)         발라드                    김희탐   \n",
              "2                        MSG워너비(M.O.M)         발라드                  Dr.JO   \n",
              "3                                  임영웅  발라드, 국내드라마                    강태규   \n",
              "4                          케이시 (Kassy)         발라드                    조영수   \n",
              "...                                ...         ...                    ...   \n",
              "94608                               강건          댄스                     강건   \n",
              "94609  커플다이어리, 아우라 (AOORA), $milli, 윤제    댄스, 인디음악            아우라 (AOORA)   \n",
              "94610                             ENOi          댄스                  JYMON   \n",
              "94611                             ENOi          댄스  페이퍼플래닛 (Paper Planet)   \n",
              "94612                        코드 (KOHD)          댄스                    유해준   \n",
              "\n",
              "                                             lyric_mecab  \\\n",
              "0      [(너, NP), (와, JKB), (함께, MAG), (하, VV), (고, EC...   \n",
              "1      [(뭐, IC), (하, VV), (고, EC), (있, VX), (었, EP), ...   \n",
              "2      [(우리, NP), (함께, MAG), (듣, VV), (던, ETM), (그, M...   \n",
              "3      [(눈물, NNG), (이, JKS), (난다, VV+EF), (이, MM), (길...   \n",
              "4      [(둘, NR), (이, JKS), (손잡, VV), (고, EC), (걸, VV)...   \n",
              "...                                                  ...   \n",
              "94608  [(하, VV), (지, EC), (마, VX+EC), (하, VV), (지, EC...   \n",
              "94609  [(Merry, SL), (christmas, SL), (큰, VA+ETM), (마...   \n",
              "94610  [(저, NP), (떨어지, VV), (는, ETM), (별, NNG), (에, J...   \n",
              "94611  [(소중, XR), (한, XSA+ETM), (무언가, NNG), (를, JKO),...   \n",
              "94612  [(마시, VV), (자, EC), (잔, NNG), (을, JKO), (들, VV...   \n",
              "\n",
              "                                                    word  \n",
              "0      [너, 와, 함께, 하, 고, 싶, 은, 일, 들, 을, 상상, 하, 는, 게, 요...  \n",
              "1      [뭐, 하, 고, 있, 었, 니, 늦, 었, 지만, 잠시, 나올래, 너, 의, 집,...  \n",
              "2      [우리, 함께, 듣, 던, 그, 노랠, 듣, 고, 싶, 을까, 듣, 고, 나, 서,...  \n",
              "3      [눈물, 이, 난다, 이, 길, 을, 걸으면, 그, 사람, 손길, 이, 자꾸, 생각...  \n",
              "4      [둘, 이, 손잡, 고, 걸, 을, 때, 마주, 보, 며, 또, 웃, 을, 때, 사...  \n",
              "...                                                  ...  \n",
              "94608  [하, 지, 마, 하, 지, 마, 음주운전, 하, 지, 마, 하, 지, 마, 하, ...  \n",
              "94609  [Merry, christmas, 큰, 마음, 먹, 고, 널, 위해, 준비, 한, ...  \n",
              "94610  [저, 떨어지, 는, 별, 에, 빌, 었, 어, 지금, 네, 맘, 도, 나, 와, ...  \n",
              "94611  [소중, 한, 무언가, 를, 난, 또, 쫓, 고, 있, 어, 어떤, 모양, 인지, ...  \n",
              "94612  [마시, 자, 잔, 을, 들, 어, 친구, 야, 사, 느라고, 고생, 이, 많, 다...  \n",
              "\n",
              "[94613 rows x 9 columns]"
            ],
            "text/html": [
              "\n",
              "  <div id=\"df-b6a63460-657e-476c-bace-94c99737eb8f\">\n",
              "    <div class=\"colab-df-container\">\n",
              "      <div>\n",
              "<style scoped>\n",
              "    .dataframe tbody tr th:only-of-type {\n",
              "        vertical-align: middle;\n",
              "    }\n",
              "\n",
              "    .dataframe tbody tr th {\n",
              "        vertical-align: top;\n",
              "    }\n",
              "\n",
              "    .dataframe thead th {\n",
              "        text-align: right;\n",
              "    }\n",
              "</style>\n",
              "<table border=\"1\" class=\"dataframe\">\n",
              "  <thead>\n",
              "    <tr style=\"text-align: right;\">\n",
              "      <th></th>\n",
              "      <th>pages</th>\n",
              "      <th>rank</th>\n",
              "      <th>title</th>\n",
              "      <th>lyric</th>\n",
              "      <th>artist</th>\n",
              "      <th>genres</th>\n",
              "      <th>writer</th>\n",
              "      <th>lyric_mecab</th>\n",
              "      <th>word</th>\n",
              "    </tr>\n",
              "  </thead>\n",
              "  <tbody>\n",
              "    <tr>\n",
              "      <th>0</th>\n",
              "      <td>1</td>\n",
              "      <td>1</td>\n",
              "      <td>사랑인가 봐</td>\n",
              "      <td>너와 함께 하고 싶은 일들을\\n상상하는 게\\n요즘 내 일상이 되고\\n너의 즐거워하는...</td>\n",
              "      <td>멜로망스</td>\n",
              "      <td>발라드, 국내드라마</td>\n",
              "      <td>김민석 (멜로망스)</td>\n",
              "      <td>[(너, NP), (와, JKB), (함께, MAG), (하, VV), (고, EC...</td>\n",
              "      <td>[너, 와, 함께, 하, 고, 싶, 은, 일, 들, 을, 상상, 하, 는, 게, 요...</td>\n",
              "    </tr>\n",
              "    <tr>\n",
              "      <th>1</th>\n",
              "      <td>1</td>\n",
              "      <td>2</td>\n",
              "      <td>취중고백</td>\n",
              "      <td>뭐하고 있었니 늦었지만\\n잠시 나올래\\n너의 집 골목에 있는\\n놀이터에 앉아 있어\\...</td>\n",
              "      <td>김민석 (멜로망스)</td>\n",
              "      <td>발라드</td>\n",
              "      <td>김희탐</td>\n",
              "      <td>[(뭐, IC), (하, VV), (고, EC), (있, VX), (었, EP), ...</td>\n",
              "      <td>[뭐, 하, 고, 있, 었, 니, 늦, 었, 지만, 잠시, 나올래, 너, 의, 집,...</td>\n",
              "    </tr>\n",
              "    <tr>\n",
              "      <th>2</th>\n",
              "      <td>1</td>\n",
              "      <td>3</td>\n",
              "      <td>듣고 싶을까</td>\n",
              "      <td>우리 함께 듣던 그 노랠 듣고 싶을까\\n듣고 나서 잠시 날 생각은 할까\\n아주 혹시...</td>\n",
              "      <td>MSG워너비(M.O.M)</td>\n",
              "      <td>발라드</td>\n",
              "      <td>Dr.JO</td>\n",
              "      <td>[(우리, NP), (함께, MAG), (듣, VV), (던, ETM), (그, M...</td>\n",
              "      <td>[우리, 함께, 듣, 던, 그, 노랠, 듣, 고, 싶, 을까, 듣, 고, 나, 서,...</td>\n",
              "    </tr>\n",
              "    <tr>\n",
              "      <th>3</th>\n",
              "      <td>1</td>\n",
              "      <td>4</td>\n",
              "      <td>사랑은 늘 도망가</td>\n",
              "      <td>눈물이 난다 이 길을 걸으면\\n그 사람 손길이 자꾸 생각이 난다\\n붙잡지 못하고 가...</td>\n",
              "      <td>임영웅</td>\n",
              "      <td>발라드, 국내드라마</td>\n",
              "      <td>강태규</td>\n",
              "      <td>[(눈물, NNG), (이, JKS), (난다, VV+EF), (이, MM), (길...</td>\n",
              "      <td>[눈물, 이, 난다, 이, 길, 을, 걸으면, 그, 사람, 손길, 이, 자꾸, 생각...</td>\n",
              "    </tr>\n",
              "    <tr>\n",
              "      <th>4</th>\n",
              "      <td>1</td>\n",
              "      <td>5</td>\n",
              "      <td>언제나 사랑해</td>\n",
              "      <td>둘이 손잡고 걸을 때\\n마주 보며 또 웃을 때\\n사랑한다 말하지 않아도 알아\\n널 ...</td>\n",
              "      <td>케이시 (Kassy)</td>\n",
              "      <td>발라드</td>\n",
              "      <td>조영수</td>\n",
              "      <td>[(둘, NR), (이, JKS), (손잡, VV), (고, EC), (걸, VV)...</td>\n",
              "      <td>[둘, 이, 손잡, 고, 걸, 을, 때, 마주, 보, 며, 또, 웃, 을, 때, 사...</td>\n",
              "    </tr>\n",
              "    <tr>\n",
              "      <th>...</th>\n",
              "      <td>...</td>\n",
              "      <td>...</td>\n",
              "      <td>...</td>\n",
              "      <td>...</td>\n",
              "      <td>...</td>\n",
              "      <td>...</td>\n",
              "      <td>...</td>\n",
              "      <td>...</td>\n",
              "      <td>...</td>\n",
              "    </tr>\n",
              "    <tr>\n",
              "      <th>94608</th>\n",
              "      <td>26101</td>\n",
              "      <td>26146</td>\n",
              "      <td>음주운전 하지마 (하지마송part.1)</td>\n",
              "      <td>하지마 하지마 음주운전 하지마\\n하지마 하지마 음주운전 하지마\\n술먹고 운전했었어\\...</td>\n",
              "      <td>강건</td>\n",
              "      <td>댄스</td>\n",
              "      <td>강건</td>\n",
              "      <td>[(하, VV), (지, EC), (마, VX+EC), (하, VV), (지, EC...</td>\n",
              "      <td>[하, 지, 마, 하, 지, 마, 음주운전, 하, 지, 마, 하, 지, 마, 하, ...</td>\n",
              "    </tr>\n",
              "    <tr>\n",
              "      <th>94609</th>\n",
              "      <td>26101</td>\n",
              "      <td>26147</td>\n",
              "      <td>All I Want for Christmas Is You (Feat. Edward ...</td>\n",
              "      <td>Merry christmas\\n큰마음 먹고 널 위해 준비한 데이트\\n나 홀로 집에 ...</td>\n",
              "      <td>커플다이어리, 아우라 (AOORA), $milli, 윤제</td>\n",
              "      <td>댄스, 인디음악</td>\n",
              "      <td>아우라 (AOORA)</td>\n",
              "      <td>[(Merry, SL), (christmas, SL), (큰, VA+ETM), (마...</td>\n",
              "      <td>[Merry, christmas, 큰, 마음, 먹, 고, 널, 위해, 준비, 한, ...</td>\n",
              "    </tr>\n",
              "    <tr>\n",
              "      <th>94610</th>\n",
              "      <td>26101</td>\n",
              "      <td>26148</td>\n",
              "      <td>Starlight (inst.)</td>\n",
              "      <td>저 떨어지는 별에 빌었어\\n지금 네 맘도 나와 똑같기를\\n잠든 밤이 지나고 네가 떠...</td>\n",
              "      <td>ENOi</td>\n",
              "      <td>댄스</td>\n",
              "      <td>JYMON</td>\n",
              "      <td>[(저, NP), (떨어지, VV), (는, ETM), (별, NNG), (에, J...</td>\n",
              "      <td>[저, 떨어지, 는, 별, 에, 빌, 었, 어, 지금, 네, 맘, 도, 나, 와, ...</td>\n",
              "    </tr>\n",
              "    <tr>\n",
              "      <th>94611</th>\n",
              "      <td>26101</td>\n",
              "      <td>26149</td>\n",
              "      <td>사막별 (inst.)</td>\n",
              "      <td>소중한 무언가를 난 또 쫓고 있어\\n어떤 모양인지조차\\n생각해 볼 순간도 없고\\n너...</td>\n",
              "      <td>ENOi</td>\n",
              "      <td>댄스</td>\n",
              "      <td>페이퍼플래닛 (Paper Planet)</td>\n",
              "      <td>[(소중, XR), (한, XSA+ETM), (무언가, NNG), (를, JKO),...</td>\n",
              "      <td>[소중, 한, 무언가, 를, 난, 또, 쫓, 고, 있, 어, 어떤, 모양, 인지, ...</td>\n",
              "    </tr>\n",
              "    <tr>\n",
              "      <th>94612</th>\n",
              "      <td>26101</td>\n",
              "      <td>26150</td>\n",
              "      <td>힘내라 친구야 (Inst.)</td>\n",
              "      <td>마시자 잔을 들어 친구야\\n사느라고 고생이 많다\\n막힌 현실에 갇혀 살아도\\n잘 버...</td>\n",
              "      <td>코드 (KOHD)</td>\n",
              "      <td>댄스</td>\n",
              "      <td>유해준</td>\n",
              "      <td>[(마시, VV), (자, EC), (잔, NNG), (을, JKO), (들, VV...</td>\n",
              "      <td>[마시, 자, 잔, 을, 들, 어, 친구, 야, 사, 느라고, 고생, 이, 많, 다...</td>\n",
              "    </tr>\n",
              "  </tbody>\n",
              "</table>\n",
              "<p>94613 rows × 9 columns</p>\n",
              "</div>\n",
              "      <button class=\"colab-df-convert\" onclick=\"convertToInteractive('df-b6a63460-657e-476c-bace-94c99737eb8f')\"\n",
              "              title=\"Convert this dataframe to an interactive table.\"\n",
              "              style=\"display:none;\">\n",
              "        \n",
              "  <svg xmlns=\"http://www.w3.org/2000/svg\" height=\"24px\"viewBox=\"0 0 24 24\"\n",
              "       width=\"24px\">\n",
              "    <path d=\"M0 0h24v24H0V0z\" fill=\"none\"/>\n",
              "    <path d=\"M18.56 5.44l.94 2.06.94-2.06 2.06-.94-2.06-.94-.94-2.06-.94 2.06-2.06.94zm-11 1L8.5 8.5l.94-2.06 2.06-.94-2.06-.94L8.5 2.5l-.94 2.06-2.06.94zm10 10l.94 2.06.94-2.06 2.06-.94-2.06-.94-.94-2.06-.94 2.06-2.06.94z\"/><path d=\"M17.41 7.96l-1.37-1.37c-.4-.4-.92-.59-1.43-.59-.52 0-1.04.2-1.43.59L10.3 9.45l-7.72 7.72c-.78.78-.78 2.05 0 2.83L4 21.41c.39.39.9.59 1.41.59.51 0 1.02-.2 1.41-.59l7.78-7.78 2.81-2.81c.8-.78.8-2.07 0-2.86zM5.41 20L4 18.59l7.72-7.72 1.47 1.35L5.41 20z\"/>\n",
              "  </svg>\n",
              "      </button>\n",
              "      \n",
              "  <style>\n",
              "    .colab-df-container {\n",
              "      display:flex;\n",
              "      flex-wrap:wrap;\n",
              "      gap: 12px;\n",
              "    }\n",
              "\n",
              "    .colab-df-convert {\n",
              "      background-color: #E8F0FE;\n",
              "      border: none;\n",
              "      border-radius: 50%;\n",
              "      cursor: pointer;\n",
              "      display: none;\n",
              "      fill: #1967D2;\n",
              "      height: 32px;\n",
              "      padding: 0 0 0 0;\n",
              "      width: 32px;\n",
              "    }\n",
              "\n",
              "    .colab-df-convert:hover {\n",
              "      background-color: #E2EBFA;\n",
              "      box-shadow: 0px 1px 2px rgba(60, 64, 67, 0.3), 0px 1px 3px 1px rgba(60, 64, 67, 0.15);\n",
              "      fill: #174EA6;\n",
              "    }\n",
              "\n",
              "    [theme=dark] .colab-df-convert {\n",
              "      background-color: #3B4455;\n",
              "      fill: #D2E3FC;\n",
              "    }\n",
              "\n",
              "    [theme=dark] .colab-df-convert:hover {\n",
              "      background-color: #434B5C;\n",
              "      box-shadow: 0px 1px 3px 1px rgba(0, 0, 0, 0.15);\n",
              "      filter: drop-shadow(0px 1px 2px rgba(0, 0, 0, 0.3));\n",
              "      fill: #FFFFFF;\n",
              "    }\n",
              "  </style>\n",
              "\n",
              "      <script>\n",
              "        const buttonEl =\n",
              "          document.querySelector('#df-b6a63460-657e-476c-bace-94c99737eb8f button.colab-df-convert');\n",
              "        buttonEl.style.display =\n",
              "          google.colab.kernel.accessAllowed ? 'block' : 'none';\n",
              "\n",
              "        async function convertToInteractive(key) {\n",
              "          const element = document.querySelector('#df-b6a63460-657e-476c-bace-94c99737eb8f');\n",
              "          const dataTable =\n",
              "            await google.colab.kernel.invokeFunction('convertToInteractive',\n",
              "                                                     [key], {});\n",
              "          if (!dataTable) return;\n",
              "\n",
              "          const docLinkHtml = 'Like what you see? Visit the ' +\n",
              "            '<a target=\"_blank\" href=https://colab.research.google.com/notebooks/data_table.ipynb>data table notebook</a>'\n",
              "            + ' to learn more about interactive tables.';\n",
              "          element.innerHTML = '';\n",
              "          dataTable['output_type'] = 'display_data';\n",
              "          await google.colab.output.renderOutput(dataTable, element);\n",
              "          const docLink = document.createElement('div');\n",
              "          docLink.innerHTML = docLinkHtml;\n",
              "          element.appendChild(docLink);\n",
              "        }\n",
              "      </script>\n",
              "    </div>\n",
              "  </div>\n",
              "  "
            ]
          },
          "metadata": {},
          "execution_count": 36
        }
      ]
    },
    {
      "cell_type": "code",
      "source": [
        "df['word'][94612]"
      ],
      "metadata": {
        "colab": {
          "base_uri": "https://localhost:8080/"
        },
        "id": "YxzACWyKE3i1",
        "outputId": "a696bffc-ac36-41b4-c215-9c4a4148e0e0"
      },
      "execution_count": null,
      "outputs": [
        {
          "output_type": "execute_result",
          "data": {
            "text/plain": [
              "['마시',\n",
              " '자',\n",
              " '잔',\n",
              " '을',\n",
              " '들',\n",
              " '어',\n",
              " '친구',\n",
              " '야',\n",
              " '사',\n",
              " '느라고',\n",
              " '고생',\n",
              " '이',\n",
              " '많',\n",
              " '다',\n",
              " '막힌',\n",
              " '현실',\n",
              " '에',\n",
              " '갇혀',\n",
              " '살',\n",
              " '아도',\n",
              " '잘',\n",
              " '버티',\n",
              " '고',\n",
              " '있',\n",
              " '다',\n",
              " '울',\n",
              " '어라',\n",
              " '맘껏',\n",
              " '울',\n",
              " '어',\n",
              " '친구',\n",
              " '야',\n",
              " '실컷',\n",
              " '울',\n",
              " '고',\n",
              " '다시',\n",
              " '일어나',\n",
              " '슬픔',\n",
              " '을',\n",
              " '비워',\n",
              " '걱정',\n",
              " '을',\n",
              " '비워',\n",
              " '힘내',\n",
              " '라',\n",
              " '친구',\n",
              " '야',\n",
              " '사랑',\n",
              " '때문',\n",
              " '에',\n",
              " '상처',\n",
              " '받',\n",
              " '아도',\n",
              " '너무',\n",
              " '슬퍼마라',\n",
              " '그리움',\n",
              " '으로',\n",
              " '괴롭',\n",
              " '겠',\n",
              " '지만',\n",
              " '시간',\n",
              " '이',\n",
              " '잊',\n",
              " '어',\n",
              " '준다',\n",
              " '돈',\n",
              " '땜',\n",
              " '에',\n",
              " '울',\n",
              " '고',\n",
              " '상처',\n",
              " '받',\n",
              " '아도',\n",
              " '너무',\n",
              " '슬퍼마라',\n",
              " '김밥',\n",
              " '한',\n",
              " '줄',\n",
              " '로',\n",
              " '배',\n",
              " '를',\n",
              " '채워도',\n",
              " '행복',\n",
              " '이란',\n",
              " '있',\n",
              " '다',\n",
              " '마시',\n",
              " '자',\n",
              " '잔',\n",
              " '을',\n",
              " '들',\n",
              " '어',\n",
              " '친구',\n",
              " '야',\n",
              " '사',\n",
              " '느라고',\n",
              " '고생',\n",
              " '이',\n",
              " '많',\n",
              " '다',\n",
              " '막힌',\n",
              " '현실',\n",
              " '에',\n",
              " '갇혀',\n",
              " '살',\n",
              " '아도',\n",
              " '잘',\n",
              " '버티',\n",
              " '고',\n",
              " '있',\n",
              " '다',\n",
              " '울',\n",
              " '어라',\n",
              " '맘껏',\n",
              " '울',\n",
              " '어',\n",
              " '친구',\n",
              " '야',\n",
              " '실컷',\n",
              " '울',\n",
              " '고',\n",
              " '다시',\n",
              " '일어나',\n",
              " '슬픔',\n",
              " '을',\n",
              " '비워',\n",
              " '걱정',\n",
              " '을',\n",
              " '비워',\n",
              " '힘내',\n",
              " '라',\n",
              " '친구',\n",
              " '야',\n",
              " '일어나',\n",
              " '지',\n",
              " '도',\n",
              " '않',\n",
              " '은',\n",
              " '일',\n",
              " '들',\n",
              " '로',\n",
              " '미리',\n",
              " '걱정',\n",
              " '마라',\n",
              " '걱정',\n",
              " '한다고',\n",
              " '뭐',\n",
              " '가',\n",
              " '변하',\n",
              " '나',\n",
              " '편하',\n",
              " '게',\n",
              " '생각',\n",
              " '해라',\n",
              " '하',\n",
              " '는',\n",
              " '일',\n",
              " '들',\n",
              " '이',\n",
              " '안',\n",
              " '풀린다고',\n",
              " '너무',\n",
              " '걱정',\n",
              " '마라',\n",
              " '사람',\n",
              " '앞일',\n",
              " '은',\n",
              " '모르',\n",
              " '는',\n",
              " '거',\n",
              " '야',\n",
              " '너',\n",
              " '는',\n",
              " '해낼',\n",
              " '거',\n",
              " '야',\n",
              " '마시',\n",
              " '자',\n",
              " '잔',\n",
              " '을',\n",
              " '들',\n",
              " '어',\n",
              " '친구',\n",
              " '야',\n",
              " '사',\n",
              " '느라고',\n",
              " '고생',\n",
              " '이',\n",
              " '많',\n",
              " '다',\n",
              " '막힌',\n",
              " '현실',\n",
              " '에',\n",
              " '갇혀',\n",
              " '살',\n",
              " '아도',\n",
              " '잘',\n",
              " '버티',\n",
              " '고',\n",
              " '있',\n",
              " '다',\n",
              " '울',\n",
              " '어라',\n",
              " '맘껏',\n",
              " '울',\n",
              " '어',\n",
              " '친구',\n",
              " '야',\n",
              " '실컷',\n",
              " '울',\n",
              " '고',\n",
              " '다시',\n",
              " '일어나',\n",
              " '슬픔',\n",
              " '을',\n",
              " '비워',\n",
              " '걱정',\n",
              " '을',\n",
              " '비워',\n",
              " '힘내',\n",
              " '라',\n",
              " '친구',\n",
              " '야',\n",
              " '세상사',\n",
              " '는',\n",
              " '일',\n",
              " '내',\n",
              " '맘',\n",
              " '같',\n",
              " '지',\n",
              " '않',\n",
              " '아도',\n",
              " '모든',\n",
              " '것',\n",
              " '들',\n",
              " '은',\n",
              " '때',\n",
              " '가',\n",
              " '있',\n",
              " '는',\n",
              " '거',\n",
              " '야',\n",
              " '결국',\n",
              " '잘',\n",
              " '될',\n",
              " '거',\n",
              " '야',\n",
              " '다',\n",
              " '잊',\n",
              " '고',\n",
              " '잔',\n",
              " '을',\n",
              " '들',\n",
              " '어',\n",
              " '친구',\n",
              " '야',\n",
              " '건배',\n",
              " '하',\n",
              " '자',\n",
              " '내일',\n",
              " '을',\n",
              " '위해',\n",
              " '장담',\n",
              " '하',\n",
              " '는',\n",
              " '데',\n",
              " '오늘',\n",
              " '보다',\n",
              " '는',\n",
              " '더',\n",
              " '나아질',\n",
              " '거',\n",
              " '야',\n",
              " '힘내',\n",
              " '라',\n",
              " '멋진',\n",
              " '나',\n",
              " '의',\n",
              " '친구',\n",
              " '야',\n",
              " '너',\n",
              " '는',\n",
              " '이미',\n",
              " '행복',\n",
              " '한',\n",
              " '거',\n",
              " '야',\n",
              " '함께',\n",
              " '슬퍼해',\n",
              " '줄',\n",
              " '친구',\n",
              " '가',\n",
              " '있',\n",
              " '다',\n",
              " '웃',\n",
              " '어라',\n",
              " '친구',\n",
              " '야',\n",
              " '함께',\n",
              " '슬퍼해',\n",
              " '줄',\n",
              " '친구',\n",
              " '가',\n",
              " '있',\n",
              " '다',\n",
              " '웃',\n",
              " '어라',\n",
              " '친구',\n",
              " '야']"
            ]
          },
          "metadata": {},
          "execution_count": 39
        }
      ]
    },
    {
      "cell_type": "code",
      "source": [
        "# download the word vectors\n",
        "import gensim.downloader as api\n",
        "glove_model = api.load('glove-wiki-gigaword-300')"
      ],
      "metadata": {
        "colab": {
          "base_uri": "https://localhost:8080/"
        },
        "id": "ry1LzpK8dbUa",
        "outputId": "a973216d-7c33-456d-a582-cc1a22a36a2d"
      },
      "execution_count": null,
      "outputs": [
        {
          "output_type": "stream",
          "name": "stdout",
          "text": [
            "[==================================================] 100.0% 376.1/376.1MB downloaded\n"
          ]
        }
      ]
    },
    {
      "cell_type": "code",
      "source": [
        "# vector representation of a word\n",
        "glove_model['beautiful']"
      ],
      "metadata": {
        "colab": {
          "base_uri": "https://localhost:8080/"
        },
        "id": "cltwgzX9dr2u",
        "outputId": "87aff772-db43-43d3-f4a2-157bce67cfb4"
      },
      "execution_count": null,
      "outputs": [
        {
          "output_type": "execute_result",
          "data": {
            "text/plain": [
              "array([-2.3852e-01, -3.3704e-01, -2.6531e-01, -3.4693e-01, -1.2875e-01,\n",
              "        1.0698e-01, -2.4669e-02,  2.6829e-02, -1.0024e-01, -9.1494e-01,\n",
              "        4.8989e-01, -1.0362e-01, -2.4535e-01,  5.7003e-01, -3.5189e-02,\n",
              "       -3.7690e-01, -6.9177e-02, -2.5942e-01,  2.2511e-01,  5.1855e-01,\n",
              "       -3.9326e-01,  1.2665e+00, -4.4396e-01,  7.6827e-01, -1.0909e-02,\n",
              "       -2.4237e-01, -1.0275e-01, -4.9712e-01, -8.0183e-02,  4.0611e-01,\n",
              "        2.1275e-01,  6.5182e-01, -1.1487e+00,  4.6080e-03, -6.8265e-01,\n",
              "        9.6941e-01, -7.6194e-02, -4.1590e-01, -2.7069e-01, -5.3364e-02,\n",
              "       -7.9631e-02, -2.6670e-01, -2.1544e-02,  2.2392e-01,  5.5741e-02,\n",
              "        8.4611e-02,  8.6011e-01,  4.8927e-01,  4.7428e-01, -2.4446e-01,\n",
              "       -2.1553e-01,  1.4370e-01,  5.0683e-01, -5.8435e-01, -5.6243e-01,\n",
              "       -6.3757e-02, -2.2861e-01, -6.9374e-02,  5.6618e-01, -8.7813e-02,\n",
              "       -2.1272e-01, -1.6319e-01,  3.3545e-01,  1.3707e-01, -1.1920e-03,\n",
              "        9.7461e-02,  3.2382e-01, -2.2693e-01, -1.7767e-01,  4.0166e-02,\n",
              "       -5.3029e-01, -4.5809e-01, -2.3483e-01,  3.1453e-01,  1.7206e-01,\n",
              "       -6.9996e-02,  2.1818e-01, -1.3370e-01,  7.0031e-02, -5.1293e-01,\n",
              "       -5.9242e-01,  2.6683e-01,  3.4211e-02, -2.3073e-01,  9.2629e-02,\n",
              "        9.7956e-01, -1.7105e-01,  3.4766e-01,  1.5655e-01,  1.6473e-01,\n",
              "       -4.8657e-02, -3.3195e-01,  4.0701e-02, -3.6882e-01,  3.8325e-02,\n",
              "        1.4471e-01,  4.5228e-01, -5.3237e-01,  1.6001e-01,  9.1856e-02,\n",
              "       -3.3670e-02, -2.8456e-01,  2.7661e-01,  2.5678e-01, -5.0600e-01,\n",
              "        9.0557e-02,  2.3590e-01, -2.3907e-01, -1.0190e-01, -4.3150e-01,\n",
              "       -1.9739e-01,  3.4452e-01,  3.3246e-01, -8.2128e-02,  2.3898e-01,\n",
              "        2.8935e-02,  3.4182e-01,  6.4785e-01,  4.4846e-02,  2.3185e-01,\n",
              "       -9.0600e-02,  3.2501e-01, -1.1690e-01,  6.3490e-01, -3.9302e-02,\n",
              "       -1.9762e-01, -1.1636e-01,  6.4526e-01, -6.8176e-01, -2.7499e-01,\n",
              "        2.3495e-01,  3.8022e-01, -7.2129e-02,  3.2216e-01, -6.3217e-01,\n",
              "       -1.3036e-01, -7.2367e-02, -1.8482e-01, -7.8929e-02,  1.2480e-01,\n",
              "        9.6149e-02,  4.8628e-02, -5.9320e-02, -1.5919e-01, -2.1533e-01,\n",
              "       -3.8724e-01,  3.5391e-01,  3.4231e-01, -3.9314e-01, -1.1976e-01,\n",
              "       -3.7050e-01, -1.2089e-01, -5.8203e-03, -3.3442e-01,  6.4367e-01,\n",
              "       -2.2489e-01, -4.5688e-01,  1.8812e-02,  1.7772e-01, -1.5363e-01,\n",
              "        4.2730e-02, -3.4811e-01,  6.1017e-01,  3.0632e-01, -4.0521e-01,\n",
              "        1.1642e-02,  8.0483e-05,  1.9665e-01,  2.7749e-01, -2.7826e-01,\n",
              "       -2.8165e-01, -1.7904e-01, -3.9776e-01,  2.9140e-01,  8.6537e-02,\n",
              "       -5.2711e-02, -2.4818e-01,  1.3174e-01, -5.0422e-01, -1.7553e-01,\n",
              "       -5.0302e-02, -6.6879e-01,  4.8007e-01,  2.3588e-02,  3.8455e-01,\n",
              "       -2.0443e-01,  3.2373e-01, -2.6863e-01, -1.1948e-03,  4.1770e-01,\n",
              "       -2.8839e-01, -5.8236e-02, -1.5103e-01, -5.2364e-02, -4.4363e-01,\n",
              "        1.8137e-01, -4.0447e-01, -4.2684e-01, -3.0427e-01,  3.6178e-01,\n",
              "        1.5595e+00, -3.3639e-01, -9.7822e-02, -1.7268e-02,  6.5117e-02,\n",
              "       -3.8777e-01,  5.7876e-02,  4.3497e-01, -3.1166e-01, -2.7618e-01,\n",
              "       -1.7773e-01,  3.3641e-01, -1.0508e-01, -3.1227e-01,  3.9182e-01,\n",
              "       -3.7915e-02,  2.5229e-01, -6.6904e-01,  1.0371e-01,  1.7643e-01,\n",
              "        2.5485e-01, -3.6815e-02,  1.7848e-01,  8.2182e-02, -6.1077e-01,\n",
              "        2.0832e-01,  4.1189e-01, -2.0953e-01, -5.2351e-01, -4.5922e-02,\n",
              "        1.0356e-01, -1.1626e-01, -2.3241e-01, -4.1366e-01, -5.6315e-02,\n",
              "        4.5747e-01, -2.9707e-01, -1.6137e-01, -3.3410e-01, -3.1331e-01,\n",
              "        3.3484e-01,  1.7417e-01, -4.1686e-01,  4.8983e-01, -1.7848e-01,\n",
              "        4.7937e-01, -3.0127e-01,  4.2611e-01,  1.9762e-01,  3.4076e-01,\n",
              "        2.6479e-01, -5.3770e-01, -1.0298e-01, -3.8824e-02,  7.3822e-01,\n",
              "        3.3278e-02,  1.1207e-01,  7.8605e-02,  1.3025e-01, -3.6788e-01,\n",
              "       -3.6885e-01, -4.0836e-01, -1.6628e-01, -2.1534e-01, -7.3451e-02,\n",
              "       -3.4754e-01, -8.6115e-03, -2.1517e-01,  4.9213e-01,  2.8894e-01,\n",
              "        1.9182e-01, -5.3703e-01,  1.5176e-02, -1.9287e-02,  1.2511e-01,\n",
              "        2.9509e-01, -1.0003e+00,  1.0112e-01, -1.3583e-01, -3.6766e-01,\n",
              "       -3.1532e-01,  3.9986e-01, -7.4484e-02, -1.6293e-01, -6.4623e-01,\n",
              "        1.8405e-01, -2.3892e-01,  3.5487e-01, -2.8264e-01, -3.4756e-01,\n",
              "        1.9120e-01,  7.6232e-02, -4.6812e-01,  3.9841e-01,  1.2330e-01,\n",
              "       -2.5784e-01,  4.5218e-01,  3.2891e-01,  3.7239e-02,  2.3779e-01],\n",
              "      dtype=float32)"
            ]
          },
          "metadata": {},
          "execution_count": 8
        }
      ]
    },
    {
      "cell_type": "code",
      "source": [
        "glove_model.most_similar('girl')"
      ],
      "metadata": {
        "colab": {
          "base_uri": "https://localhost:8080/"
        },
        "id": "-u-z_5vweJKj",
        "outputId": "b80ab465-be58-4dd0-9965-db1e95e61731"
      },
      "execution_count": null,
      "outputs": [
        {
          "output_type": "execute_result",
          "data": {
            "text/plain": [
              "[('boy', 0.8272891044616699),\n",
              " ('woman', 0.729641854763031),\n",
              " ('girls', 0.7227291464805603),\n",
              " ('teenager', 0.650977373123169),\n",
              " ('teenage', 0.6492719650268555),\n",
              " ('mother', 0.6417974829673767),\n",
              " ('boys', 0.6283578872680664),\n",
              " ('child', 0.6229295134544373),\n",
              " ('teen', 0.612524151802063),\n",
              " ('daughter', 0.6050207614898682)]"
            ]
          },
          "metadata": {},
          "execution_count": 9
        }
      ]
    },
    {
      "cell_type": "code",
      "source": [
        "glove_model.most_similar(positive = ['boy','queen'], negative = ['girl'])"
      ],
      "metadata": {
        "colab": {
          "base_uri": "https://localhost:8080/"
        },
        "id": "kfwBLNXmeNsp",
        "outputId": "91e11b41-d160-4ff3-a96f-11fa813880d2"
      },
      "execution_count": null,
      "outputs": [
        {
          "output_type": "execute_result",
          "data": {
            "text/plain": [
              "[('king', 0.6770139336585999),\n",
              " ('monarch', 0.5442801713943481),\n",
              " ('elizabeth', 0.5344177484512329),\n",
              " ('majesty', 0.5312743186950684),\n",
              " ('ii', 0.5138020515441895),\n",
              " ('royal', 0.5046806335449219),\n",
              " ('throne', 0.49595189094543457),\n",
              " ('prince', 0.4886452257633209),\n",
              " ('princess', 0.4612610340118408),\n",
              " ('vi', 0.4535139799118042)]"
            ]
          },
          "metadata": {},
          "execution_count": 10
        }
      ]
    },
    {
      "cell_type": "markdown",
      "source": [
        "# 1. GloVe\n",
        "* Word2Vec과 동일한  말뭉치 (corpus)사용\n",
        "- https://jxnjxn.tistory.com/49\n",
        "- https://heung-bae-lee.github.io/2020/01/16/NLP_01/"
      ],
      "metadata": {
        "id": "GeTFL20c1xXj"
      }
    },
    {
      "cell_type": "code",
      "execution_count": null,
      "metadata": {
        "colab": {
          "base_uri": "https://localhost:8080/"
        },
        "id": "4FIk6rRUzAuY",
        "outputId": "2a7bf952-9813-4957-fe71-d75de81a24f0"
      },
      "outputs": [
        {
          "output_type": "stream",
          "name": "stdout",
          "text": [
            "Collecting glove_python_binary\n",
            "  Downloading glove_python_binary-0.2.0-cp37-cp37m-manylinux1_x86_64.whl (948 kB)\n",
            "\u001b[K     |████████████████████████████████| 948 kB 5.3 MB/s \n",
            "\u001b[?25hRequirement already satisfied: numpy in /usr/local/lib/python3.7/dist-packages (from glove_python_binary) (1.21.5)\n",
            "Requirement already satisfied: scipy in /usr/local/lib/python3.7/dist-packages (from glove_python_binary) (1.4.1)\n",
            "Installing collected packages: glove-python-binary\n",
            "Successfully installed glove-python-binary-0.2.0\n"
          ]
        }
      ],
      "source": [
        "# glove 설치\n",
        "!pip install glove_python_binary"
      ]
    },
    {
      "cell_type": "code",
      "source": [
        "from glove import Corpus, Glove\n",
        "corpus = Corpus() "
      ],
      "metadata": {
        "id": "tDzU4MtRzQ44"
      },
      "execution_count": null,
      "outputs": []
    },
    {
      "cell_type": "code",
      "source": [
        "# 훈련 데이터로부터 GloVe에서 사용할 동시 등장 행렬 생성\n",
        "corpus.fit(df['word'], window=10) # window = 8 \n",
        "glove = Glove(no_components=100, learning_rate=0.03) # no_components=100, learning_rate=0.03\n",
        "\n",
        "# parameter 설정 \n",
        "glove.fit(corpus.matrix, epochs=20, no_threads=5, verbose=False) # epochs=20, no_threads=5\n",
        "glove.add_dictionary(corpus.dictionary)"
      ],
      "metadata": {
        "id": "HpUIrCcNzbq4"
      },
      "execution_count": null,
      "outputs": []
    },
    {
      "cell_type": "markdown",
      "source": [
        "설정한 파라미터의 의미는 다음과 같다. \n",
        "\n",
        "* no_components: 몇 차원 백터로 바꿀 것인지\n",
        "* learning_rate: 너무크면 overshooting, 너무 작으면 실행시간이 너무 오래 걸린다. 최적의 값은 여러번 실행하면서 찾는 것.\n",
        "* window: 앞 뒤로 몇개의 단어를 볼 것인지 \n",
        "* epochs: 전체 데이터셋을 몇 번 학습시켜줄 것인지 (학습반복주기) \n",
        "* no_threads: 프로세스 내에서 실행되는 흐름단위의 개수(멀티스레드. 병렬실행) \n",
        "* verbose: 학습진행상황을 보여줄것인지 (1=True, 0=False)"
      ],
      "metadata": {
        "id": "30xQF4x817Pg"
      }
    },
    {
      "cell_type": "code",
      "source": [
        "glove.most_similar('사랑') #learning_rate=0.01"
      ],
      "metadata": {
        "colab": {
          "base_uri": "https://localhost:8080/"
        },
        "id": "84-8DiZW4T8t",
        "outputId": "8585bdf7-85e4-4329-af7d-e729eb675510"
      },
      "execution_count": null,
      "outputs": [
        {
          "output_type": "execute_result",
          "data": {
            "text/plain": [
              "[('할래요', 0.9982713701239959),\n",
              " ('해줘요', 0.9978093167990646),\n",
              " ('할께요', 0.9972969561413758),\n",
              " ('게요', 0.9971905783369304)]"
            ]
          },
          "metadata": {},
          "execution_count": 28
        }
      ]
    },
    {
      "cell_type": "code",
      "source": [
        "glove.most_similar('사랑') #learning_rate=0.03"
      ],
      "metadata": {
        "colab": {
          "base_uri": "https://localhost:8080/"
        },
        "id": "SV4TEe59-YPY",
        "outputId": "59c0c733-bcbc-4ab0-9714-1351729e2adf"
      },
      "execution_count": null,
      "outputs": [
        {
          "output_type": "execute_result",
          "data": {
            "text/plain": [
              "[('한다고', 0.821894007010279),\n",
              " ('한다', 0.8179662835002792),\n",
              " ('한다는', 0.8034026948737262),\n",
              " ('한다면', 0.7883668710943327)]"
            ]
          },
          "metadata": {},
          "execution_count": 32
        }
      ]
    },
    {
      "cell_type": "code",
      "source": [
        "glove.most_similar('사랑') #window=10, learning_rate=0.03"
      ],
      "metadata": {
        "colab": {
          "base_uri": "https://localhost:8080/"
        },
        "id": "4uFiCKke_6PM",
        "outputId": "6730762a-97f4-4d71-82fa-3784ce27daed"
      },
      "execution_count": null,
      "outputs": [
        {
          "output_type": "execute_result",
          "data": {
            "text/plain": [
              "[('한다', 0.829050011195137),\n",
              " ('한다고', 0.8233450421209932),\n",
              " ('한다는', 0.810641723078519),\n",
              " ('한단', 0.7975477367210444)]"
            ]
          },
          "metadata": {},
          "execution_count": 34
        }
      ]
    },
    {
      "cell_type": "code",
      "source": [
        "glove.most_similar('사랑') #learning_rate=0.05"
      ],
      "metadata": {
        "colab": {
          "base_uri": "https://localhost:8080/"
        },
        "id": "g1nA-HVF-SLw",
        "outputId": "bb5504f0-3c1d-42a9-e220-f99b0b932fcd"
      },
      "execution_count": null,
      "outputs": [
        {
          "output_type": "execute_result",
          "data": {
            "text/plain": [
              "[('한다', 0.7565790879022791),\n",
              " ('한다고', 0.745687907700494),\n",
              " ('한다는', 0.7162856747859455),\n",
              " ('Qu', 0.7087674279527009)]"
            ]
          },
          "metadata": {},
          "execution_count": 30
        }
      ]
    },
    {
      "cell_type": "code",
      "source": [
        "# word dict 생성\n",
        "word_dict = {}\n",
        "for word in  glove.dictionary.keys():\n",
        "    word_dict[word] = glove.word_vectors[glove.dictionary[word]]\n",
        "print('[Success !] Lengh of word dict... : ', len(word_dict))\n",
        "\n",
        "# save word_dict\n",
        "#with open(DATA_DIR + '/glove_word_dict_128.pickle', 'wb') as f:\n",
        "#    pickle.dump(word_dict, f)\n",
        "#print('[Success !] Save word dict!...')"
      ],
      "metadata": {
        "colab": {
          "base_uri": "https://localhost:8080/"
        },
        "id": "os2IA8HM5Wdy",
        "outputId": "dd1b2df6-d687-4437-c65d-dc492d07c0b3"
      },
      "execution_count": null,
      "outputs": [
        {
          "output_type": "stream",
          "name": "stdout",
          "text": [
            "[Success !] Lengh of word dict... :  73474\n"
          ]
        }
      ]
    },
    {
      "cell_type": "code",
      "source": [
        "len(word_dict)"
      ],
      "metadata": {
        "colab": {
          "base_uri": "https://localhost:8080/"
        },
        "id": "GHy7NGfuEqt0",
        "outputId": "649eaaec-f4b3-4b64-e2f3-c8edbe1393e1"
      },
      "execution_count": null,
      "outputs": [
        {
          "output_type": "execute_result",
          "data": {
            "text/plain": [
              "73474"
            ]
          },
          "metadata": {},
          "execution_count": 45
        }
      ]
    },
    {
      "cell_type": "code",
      "source": [
        "# 임베딩된 단어 벡터 확인\n",
        "word_dict['사랑']"
      ],
      "metadata": {
        "colab": {
          "base_uri": "https://localhost:8080/"
        },
        "id": "xbmZHQOf5iaN",
        "outputId": "f8ddd91e-1c51-465f-9115-0430af3b13f8"
      },
      "execution_count": null,
      "outputs": [
        {
          "output_type": "execute_result",
          "data": {
            "text/plain": [
              "array([-0.23085911, -0.27285497, -0.01832203, -0.36549405, -0.36093352,\n",
              "        0.09358964, -0.42645682,  0.15173922,  0.04683451, -0.25474305,\n",
              "       -0.36916312,  0.19005568,  0.1509075 , -0.31086217,  0.0154911 ,\n",
              "        0.21218717, -0.34191749,  0.31429561, -0.13259925,  0.33595365,\n",
              "        0.40241021,  0.08792217,  0.11385064, -0.33019692,  0.22591248,\n",
              "        0.42169026,  0.27624265,  0.11622167,  0.09216847, -0.22551717,\n",
              "        0.25164072, -0.34821093, -0.36902686,  0.37055027, -0.1766486 ,\n",
              "        0.1154849 , -0.10810884,  0.01396482,  0.30068954, -0.31186392,\n",
              "       -0.3994939 ,  0.30385659, -0.39843349, -0.37647362,  0.01317316,\n",
              "        0.45205283,  0.55080715, -0.13812738,  0.55392868, -0.39088722,\n",
              "       -0.34941008,  0.55000388, -0.37937277,  0.07421363, -0.2074617 ,\n",
              "        0.20005309, -0.31174327,  0.23431445, -0.27415065,  0.31849702,\n",
              "       -0.44958251,  0.38964761, -0.46787662, -0.34313638, -0.05707925,\n",
              "        0.42165483, -0.17024729,  0.21266628,  0.33622093,  0.36631452,\n",
              "       -0.31319136, -0.37261787, -0.20514118, -0.0132045 , -0.44697983,\n",
              "        0.45730226, -0.43630754,  0.01152691, -0.39615948, -0.11269492,\n",
              "       -0.06644318,  0.25491161,  0.42788075,  0.33189947, -0.40509815,\n",
              "       -0.3481214 , -0.36794818,  0.04957269, -0.26767722,  0.32689465,\n",
              "        0.40593851, -0.2471188 , -0.45443445,  0.39851423,  0.22797422,\n",
              "        0.8548915 , -0.28534873, -0.43916216,  0.51324479,  0.35868777])"
            ]
          },
          "metadata": {},
          "execution_count": 19
        }
      ]
    },
    {
      "cell_type": "code",
      "source": [
        "def tsne_plot(model):\n",
        "  labels = []\n",
        "  wordvecs = []\n",
        "\n",
        "  for word in df['word'][0]:\n",
        "    #for word in words:\n",
        "    wordvecs.append(model[word])\n",
        "\n",
        "  tsne_model = TSNE(perplexity=3, n_components = 2, init = 'pca', random_state = 42)\n",
        "  coordinates = tsne_model.fit_transform(wordvecs)\n",
        "\n",
        "  x = []\n",
        "  y = []\n",
        "  for value in coordinates:\n",
        "    x.append(value[0])\n",
        "    y.append(value[1])\n",
        "\n",
        "  plt.figure(figsize = (8,8))\n",
        "  for i in range(len(x)):\n",
        "    plt.scatter(x[i], y[i])\n",
        "  plt.show()"
      ],
      "metadata": {
        "id": "eaygUsPReZHz"
      },
      "execution_count": null,
      "outputs": []
    },
    {
      "cell_type": "code",
      "source": [
        "plt.annotate(word[i],\n",
        "              xy = (x[i], y[i]),\n",
        "              xytext = (2,2),\n",
        "              textcoords = 'offset points',\n",
        "              ha = 'right',\n",
        "              va = 'bottom')"
      ],
      "metadata": {
        "id": "QrKanYPNim2d"
      },
      "execution_count": null,
      "outputs": []
    },
    {
      "cell_type": "code",
      "source": [
        "tsne_plot(word_dict)"
      ],
      "metadata": {
        "colab": {
          "base_uri": "https://localhost:8080/",
          "height": 577
        },
        "id": "7YGe4F1zfXWd",
        "outputId": "bbb36b4e-8355-42a1-c5a6-5f27caf26550"
      },
      "execution_count": null,
      "outputs": [
        {
          "output_type": "stream",
          "name": "stderr",
          "text": [
            "/usr/local/lib/python3.7/dist-packages/sklearn/manifold/_t_sne.py:793: FutureWarning: The default learning rate in TSNE will change from 200.0 to 'auto' in 1.2.\n",
            "  FutureWarning,\n",
            "/usr/local/lib/python3.7/dist-packages/sklearn/manifold/_t_sne.py:986: FutureWarning: The PCA initialization in TSNE will change to have the standard deviation of PC1 equal to 1e-4 in 1.2. This will ensure better convergence.\n",
            "  FutureWarning,\n"
          ]
        },
        {
          "output_type": "display_data",
          "data": {
            "text/plain": [
              "<Figure size 576x576 with 1 Axes>"
            ],
            "image/png": "[encoded data removed]"
          },
          "metadata": {
            "needs_background": "light"
          }
        }
      ]
    },
    {
      "cell_type": "code",
      "source": [
        "# test데이터 워드 임베딩\n",
        "# word dict : train데이터의 임베딩 사전\n",
        "total_word_dict = {}\n",
        "cnt = 0\n",
        "\n",
        "for word in df['word']:\n",
        "    if word in word_dict.keys():\n",
        "        total_word_dict[word] = word_dict[word]\n",
        "    else:\n",
        "        word_dict[word] = np.zeros((128))\n",
        "        cnt += 1  # 처음 본 단어 갯수 세기\n",
        "\n",
        "print('no train word -> 0....', cnt)\n",
        "print('token -> word embedding....!',len(unique_tokens))"
      ],
      "metadata": {
        "id": "yuyzCGQj5soK"
      },
      "execution_count": null,
      "outputs": []
    },
    {
      "cell_type": "markdown",
      "source": [
        "- 워드 임베딩 된 벡터로 문장 단위 임베딩"
      ],
      "metadata": {
        "id": "H058T1CN5JdU"
      }
    },
    {
      "cell_type": "code",
      "source": [
        "def sent2vec_glove(tokens, embedding_dim=100):\n",
        "    '''문장 token 리스트를 받아서 임베딩 시킨다.'''\n",
        "  \n",
        "    size = len(tokens)\n",
        "    matrix = np.zeros((size, embedding_dim))\n",
        "    word_table = word_dict     # glove word_dict\n",
        "\n",
        "    for i, token in enumerate(tokens):\n",
        "        vector = np.array([\n",
        "            word_table[t] for t in token\n",
        "            if t in word_table\n",
        "        ])\n",
        "\n",
        "        if vector.size != 0:\n",
        "            final_vector = np.mean(vector, axis=0)\n",
        "            matrix[i] = final_vector\n",
        "\n",
        "    return matrix"
      ],
      "metadata": {
        "id": "9oRySiU05IY-"
      },
      "execution_count": null,
      "outputs": []
    },
    {
      "cell_type": "code",
      "source": [
        "sent2vec_glove(df['lyric'])"
      ],
      "metadata": {
        "colab": {
          "base_uri": "https://localhost:8080/"
        },
        "id": "1UbYttWx6QVp",
        "outputId": "e6cebb0f-54a3-4070-f29c-a00ed40c9645"
      },
      "execution_count": null,
      "outputs": [
        {
          "output_type": "execute_result",
          "data": {
            "text/plain": [
              "array([[-0.20185774, -0.21043426, -0.06482552, ..., -0.24471681,\n",
              "         0.21637077,  0.19484078],\n",
              "       [-0.19653386, -0.20034704, -0.08714043, ..., -0.23649193,\n",
              "         0.21977896,  0.19858562],\n",
              "       [-0.17407586, -0.14958178, -0.12674395, ..., -0.19100651,\n",
              "         0.09450491,  0.17269734],\n",
              "       ...,\n",
              "       [-0.18875318, -0.1628793 , -0.10908315, ..., -0.21421123,\n",
              "         0.16627586,  0.18674032],\n",
              "       [-0.19080852, -0.15609216, -0.07466703, ..., -0.19679086,\n",
              "         0.10694066,  0.19732301],\n",
              "       [-0.17996869, -0.18274506, -0.08509674, ..., -0.21472538,\n",
              "         0.19515836,  0.1824993 ]])"
            ]
          },
          "metadata": {},
          "execution_count": 24
        }
      ]
    },
    {
      "cell_type": "code",
      "source": [
        "len(sent2vec_glove(df['lyric']))"
      ],
      "metadata": {
        "colab": {
          "base_uri": "https://localhost:8080/"
        },
        "id": "iYgVW896FoAg",
        "outputId": "b5a95406-16cb-411c-ef89-3270a8c591c7"
      },
      "execution_count": null,
      "outputs": [
        {
          "output_type": "execute_result",
          "data": {
            "text/plain": [
              "94613"
            ]
          },
          "metadata": {},
          "execution_count": 48
        }
      ]
    },
    {
      "cell_type": "markdown",
      "source": [
        "# 2. Word2Vec"
      ],
      "metadata": {
        "id": "YCCp9pwt4IUM"
      }
    },
    {
      "cell_type": "code",
      "source": [
        "from gensim.models import Word2Vec"
      ],
      "metadata": {
        "id": "YucLEXy13Lc_"
      },
      "execution_count": null,
      "outputs": []
    },
    {
      "cell_type": "code",
      "source": [
        "model = Word2Vec(df['word'], min_count = 1) "
      ],
      "metadata": {
        "id": "KCGmK6ZN2BGE"
      },
      "execution_count": null,
      "outputs": []
    },
    {
      "cell_type": "code",
      "source": [
        "model.wv.most_similar('사랑', topn = 20)"
      ],
      "metadata": {
        "colab": {
          "base_uri": "https://localhost:8080/"
        },
        "id": "CFmtiaNj3KWD",
        "outputId": "fdacc4b2-d40e-451b-a653-fa41e7e63c19"
      },
      "execution_count": null,
      "outputs": [
        {
          "output_type": "execute_result",
          "data": {
            "text/plain": [
              "[('행복', 0.6516521573066711),\n",
              " ('이별', 0.6254322528839111),\n",
              " ('옹아', 0.6234909892082214),\n",
              " ('미안', 0.5984020233154297),\n",
              " ('원망', 0.5958678126335144),\n",
              " ('말', 0.5914985537528992),\n",
              " ('약속', 0.582221269607544),\n",
              " ('용서', 0.5737311840057373),\n",
              " ('기억', 0.5690634846687317),\n",
              " ('새로워야', 0.5533201694488525),\n",
              " ('이해', 0.5519946813583374),\n",
              " ('후회', 0.5371491312980652),\n",
              " ('결혼', 0.534673810005188),\n",
              " ('소중', 0.5323776602745056),\n",
              " ('스윗소로우', 0.5233602523803711),\n",
              " ('고백', 0.5229283571243286),\n",
              " ('불행', 0.5206862092018127),\n",
              " ('나', 0.5194368362426758),\n",
              " ('배신', 0.515627384185791),\n",
              " ('생각', 0.5116546750068665)]"
            ]
          },
          "metadata": {},
          "execution_count": 12
        }
      ]
    },
    {
      "cell_type": "code",
      "source": [
        "# word dict 생성\n",
        "word_dict_wv = {}\n",
        "for word in  model.dictionary.keys():\n",
        "    word_dict_wv[word] = model.word_vectors[model.dictionary[word]]\n",
        "print('[Success !] Lengh of word dict... : ', len(word_dict))"
      ],
      "metadata": {
        "id": "tMBJwF85ITMi"
      },
      "execution_count": null,
      "outputs": []
    },
    {
      "cell_type": "markdown",
      "source": [
        "설정한 파라미터의미는 다음과 같다. \n",
        "- sentences: 토큰화된 리스트 이름\n",
        "- size(vector_size): 몇 차원의 벡터로 바꿀 것인지\n",
        "- window: 앞 뒤 몇 단어를 볼 것인지\n",
        "- min_count: 최소 출현빈도 (이하인 것은 삭제하기)\n",
        "- workers: 몇 가지 병렬 방식으로 훈련할지 (멀티코어. 동시에 처리할 작업 수)\n",
        "- iter(epochs): 몇 번 반복학습할 것인지\n",
        "- sg=1: skip-gram을 사용해라 (sg=0이면 CBOW사용)"
      ],
      "metadata": {
        "id": "_cEbFk6r2JBl"
      }
    },
    {
      "cell_type": "code",
      "source": [
        "from gensim.models.word2vec import Word2Vec\n",
        "model = Word2Vec(sentences = tokenized_data, vector_size = 100, window = 8, min_count = 10, workers = 4, epochs=100, sg = 0) #skip-gram사용"
      ],
      "metadata": {
        "id": "783XfYoI2Jbj"
      },
      "execution_count": null,
      "outputs": []
    }
  ]
}