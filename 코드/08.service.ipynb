{
  "nbformat": 4,
  "nbformat_minor": 0,
  "metadata": {
    "colab": {
      "name": "_서비스.ipynb",
      "provenance": [],
      "collapsed_sections": []
    },
    "kernelspec": {
      "name": "python3",
      "display_name": "Python 3"
    },
    "language_info": {
      "name": "python"
    }
  },
  "cells": [
    {
      "cell_type": "code",
      "execution_count": null,
      "metadata": {
        "id": "-NJe63Fd4cZA"
      },
      "outputs": [],
      "source": [
        "# 트랜스포머 설치\n",
        "!pip install transformers"
      ]
    },
    {
      "cell_type": "code",
      "source": [
        "# 구글드라이브 마운트\n",
        "from google.colab import drive\n",
        "drive.mount('/content/drive')"
      ],
      "metadata": {
        "id": "hiOdsS9q4wos"
      },
      "execution_count": null,
      "outputs": []
    },
    {
      "cell_type": "code",
      "source": [
        "# mecab 설치\n",
        "!pip install konlpy\n",
        "!git clone https://github.com/SOMJANG/Mecab-ko-for-Google-Colab.git \n",
        "%cd Mecab-ko-for-Google-Colab/\n",
        "!bash install_mecab-ko_on_colab190912.sh\n",
        "%cd ../"
      ],
      "metadata": {
        "id": "1-pZKoEZ4_KF"
      },
      "execution_count": null,
      "outputs": []
    },
    {
      "cell_type": "code",
      "source": [
        "# 구글 드라이브에서 모델, 토크나이저 불러오기\n",
        "from collections import Counter\n",
        "import os\n",
        "import time\n",
        "import datetime\n",
        "from google.colab import drive\n",
        "\n",
        "import pandas as pd\n",
        "import seaborn as sns\n",
        "import numpy as np\n",
        "import random\n",
        "import re\n",
        "\n",
        "import torch\n",
        "from torch.utils.data import Dataset, DataLoader, random_split, RandomSampler, SequentialSampler\n",
        "torch.manual_seed(42)\n",
        "\n",
        "\n",
        "from transformers import GPT2LMHeadModel,  GPT2Tokenizer, GPT2Config, GPT2LMHeadModel\n",
        "from transformers import AdamW, get_linear_schedule_with_warmup\n",
        "\n",
        "# gpt3-kor-small_based_on_gpt2\n",
        "from transformers import BertTokenizerFast, GPT2LMHeadModel\n",
        "model = GPT2LMHeadModel.from_pretrained('/content/drive/MyDrive/gpt3_topic')\n",
        "tokenizer_gpt3 = BertTokenizerFast.from_pretrained('/content/drive/MyDrive/gpt3_topic')\n",
        "input_ids = tokenizer_gpt3.encode(\"text to tokenize\")[1:]  # remove cls token"
      ],
      "metadata": {
        "id": "ayvCXVK95Cat"
      },
      "execution_count": null,
      "outputs": []
    },
    {
      "cell_type": "code",
      "source": [
        "# mecab 또는 Okt 불러오기\n",
        "\n",
        "from konlpy.tag import Mecab\n",
        "mecab = Mecab()\n",
        "\n",
        "#from konlpy.tag import Okt\n",
        "#okt = Okt()"
      ],
      "metadata": {
        "id": "GaSDPL5o5KwV"
      },
      "execution_count": null,
      "outputs": []
    },
    {
      "cell_type": "code",
      "source": [
        "device = torch.device(\"cuda\")\n",
        "model.cuda()\n",
        "\n",
        "seed_val = 42\n",
        "\n",
        "random.seed(seed_val)\n",
        "np.random.seed(seed_val)\n",
        "torch.manual_seed(seed_val)\n",
        "torch.cuda.manual_seed_all(seed_val)\n",
        "model = model.to(device)"
      ],
      "metadata": {
        "id": "I_rudXRv5WQ0"
      },
      "execution_count": null,
      "outputs": []
    },
    {
      "cell_type": "markdown",
      "source": [
        "함수 정의"
      ],
      "metadata": {
        "id": "DZ6Q90C967in"
      }
    },
    {
      "cell_type": "code",
      "source": [
        "# 가사 생성 함수 정의\n",
        "\n",
        "model.eval()\n",
        "def lyric_generator(gen, lyric):\n",
        "  prompt = f\"<|startoftext|> <{gen}> {lyric}\"\n",
        "  generated = torch.tensor(tokenizer_gpt3.encode(prompt)[1:]).unsqueeze(0)\n",
        "  generated = generated.to(device)\n",
        "\n",
        "  print(generated)\n",
        "\n",
        "  sample_outputs = model.generate(\n",
        "                                  generated, \n",
        "                                  #bos_token_id=random.randint(1,30000),\n",
        "                                  do_sample=True,   \n",
        "                                  top_k=50, \n",
        "                                  max_length = 350,\n",
        "                                  #max_length = len(lyric) + 350,\n",
        "                                  top_p=0.95, \n",
        "                                  num_return_sequences=1,\n",
        "                                  repetition_penalty=1.1\n",
        "                                  )\n",
        "  for i, sample_output in enumerate(sample_outputs):\n",
        "    result = tokenizer_gpt3.decode(sample_output, skip_special_tokens=True)\n",
        "    result = re.sub(r\"<br>\", '\\n', result)\n",
        "    lyrictxt = open(r'/content/drive/MyDrive/front-end/lyrictxt.txt','w')\n",
        "    myString = result\n",
        "    lyrictxt.write(myString)\n",
        "    lyrictxt.close()\n",
        "    print(result)\n",
        "  return result"
      ],
      "metadata": {
        "id": "gTJ0l8v-5sG0"
      },
      "execution_count": null,
      "outputs": []
    },
    {
      "cell_type": "code",
      "source": [
        "# 토픽을 결정해주는 함수\n",
        "\n",
        "def decide_topic(gen, lyric):\n",
        "\n",
        "  d_topic1 = ['밤','심장','순간','날','눈','몸','숨','눈빛','머리','시선','맘','끝','손','기분','춤','시작','입술','원','준비','소리',\n",
        "              '음악','느낌','때','완벽','안','위','필요','리듬','입','전']\n",
        "  d_topic2 = ['눈','밤','속','순간','꿈','손','하늘','날','위','끝','숨','세상','맘','심장','시간','빛','바람','눈빛','안','기분','소리',\n",
        "              '시작','별','길','때','몸','곳','노래','향기','시선']\n",
        "  d_topic3 = ['남자','집','여자','매력','친구','옷','머리','생일','기분','전화','축하','노래','화장','밥','티','커피','눈치','정신','아침',\n",
        "              '스타일','오늘','애','문자','몸매','분위기','얼굴','영화','오빠','번호','생일날']\n",
        "  d_topic4 = ['엄마','돈','아빠','인생','나이','공부','아저씨','집','왕','애','학교','금','배','물','개','아이','맛','키','형','밥','산타',\n",
        "              '오빠','몫','랩','산','동생','부모','술','라면','남']\n",
        "  d_topic5 = ['춤','몸','음악','머리','인생','볼륨','준비','리듬','소리','다리','무대','돈','잔','비트','걱정','남','승리','젋음','발','폼',\n",
        "              '모두','허리','땀','함성','해변','엉덩이','차','피해','게임','해결']\n",
        "\n",
        "  b_topic1 = ['꿈','속','하늘','빛','위','끝','세상','순간','길','별','손','어둠','숨','곳','시간','시작','바람','안','눈','밤','미래','태양',\n",
        "              '현실','구름','아래','날','달','내일','달빛','삶']\n",
        "  b_topic2 = ['사랑','말','날','마음','생각','맘','사람','시간','모습','속','때','가슴','행복','곁','눈물','기억','세상','하루','이상','일','눈',\n",
        "              '오늘','앞','끝','여자','필요','추억','친구','혼자','밤']\n",
        "  b_topic3 = ['돈','집','엄마','친구','인생','나이','밥','아빠','술','오빠','차','키','남','여자','부모','잔','학교','동네','아저씨','크리스마스',\n",
        "              '라면','한잔','결혼','공부','우정','애','모두','언니','배','누나']\n",
        "  b_topic4 = ['춤','음악','바다','리듬','위','파도','여름','노래','몸','소리','밤','아래','태양','바람','하늘','조명','도시','볼륨','햇살','분위기',\n",
        "              '기분','여행','모래','파티','걱정','일상','불빛','무대','산','해']\n",
        "  b_topic5 = ['눈','맘','날','눈빛','밤','기분','심장','머리','손','순간','말','입술','시선','향기','몸','느낌','입','때','원','숨','상상','남자',\n",
        "              '눈치','매력','준비','완벽','오늘','전','미소','표정']\n",
        "\n",
        "  token = mecab.pos(lyric)\n",
        "  #token = okt.pos(lyric)\n",
        "  #print(token)\n",
        "\n",
        "  word_list = []\n",
        "  for t in token:\n",
        "    if t[1] == 'NNG':\n",
        "    #if t[1] == 'Noun':\n",
        "      word_list.append(t[0])\n",
        "  #print(word_list)\n",
        "  \n",
        "  topic_counts = []\n",
        "  # Counter().moset_common(n)의 경우 같은 수의 카운트는 발생한 순으로 반환\n",
        "  # 댄스 1-2-3-4-5\n",
        "  if gen == '댄스':\n",
        "    for word in word_list:\n",
        "      if word in d_topic1:\n",
        "        topic_counts.append('topic1')\n",
        "      if word in d_topic2:\n",
        "        topic_counts.append('topic2')\n",
        "      if word in d_topic3:\n",
        "        topic_counts.append('topic3')\n",
        "      if word in d_topic4:\n",
        "        topic_counts.append('topic4')\n",
        "      if word in d_topic5:\n",
        "        topic_counts.append('topic5')\n",
        "\n",
        "  # 발라드 1-2-3-5-4\n",
        "  elif gen == '발라드':\n",
        "    for word in word_list:\n",
        "      if word in b_topic1:\n",
        "        topic_counts.append('topic1')\n",
        "      if word in b_topic2:\n",
        "        topic_counts.append('topic2')\n",
        "      if word in b_topic3:\n",
        "        topic_counts.append('topic3')\n",
        "      if word in b_topic5:\n",
        "        topic_counts.append('topic5')\n",
        "      if word in b_topic4:\n",
        "        topic_counts.append('topic4')  \n",
        "\n",
        "  if topic_counts == []:\n",
        "    topic = 'topic6'\n",
        "  else:\n",
        "    topic = Counter(topic_counts).most_common(1)[0][0]\n",
        "  \n",
        "  print(topic_counts)\n",
        "  print(Counter(topic_counts).most_common())\n",
        "  gen = gen + topic  \n",
        "\n",
        "  return gen, lyric"
      ],
      "metadata": {
        "id": "uWRpc_q76AtO"
      },
      "execution_count": null,
      "outputs": []
    },
    {
      "cell_type": "code",
      "source": [
        "# 영어 비율에 따라 재생성 여부 결정\n",
        "\n",
        "def decide_regen(input):\n",
        "  val = []\n",
        "  # for i in input.split('<br>'):\n",
        "  for i in input.split('\\n'):\n",
        "    val.append(str(bool(re.search(r'[ㄱ-ㅎ|ㅏ-ㅣ|가-힣]',i))))\n",
        "\n",
        "  eng = []\n",
        "  space = []\n",
        "  for char in input:\n",
        "    if re.sub(r'[a-z]','',char) == \"\":\n",
        "      eng += char\n",
        "    elif char == \" \":\n",
        "      space += char\n",
        "  eng_ratio = len(eng)/(len(input)-len(space))\n",
        "\n",
        "  if (len(set(val[1:])) == 1) & ('False' in set(val[1:])) == True:\n",
        "    print((len(set(val[1:])) == 1) & ('False' in set(val[1:])))\n",
        "    print(input)\n",
        "    output = 'regenerate'\n",
        "  elif eng_ratio > 0.2:\n",
        "    print(eng_ratio)\n",
        "    print(input)\n",
        "    output = 'regenerate'\n",
        "  else:\n",
        "    print(eng_ratio)\n",
        "    output = 'pass'\n",
        "  \n",
        "  return output"
      ],
      "metadata": {
        "id": "yGhAlYgE6Iyw"
      },
      "execution_count": null,
      "outputs": []
    },
    {
      "cell_type": "code",
      "source": [
        "  # 마지막 줄에 영어만 있다면 제거\n",
        "  \n",
        "def remove_lastEng(a):\n",
        "  if re.sub(r'[a-z\\n]','',a.split('\\n')[-1]).strip() == \"\" :\n",
        "    b = a.split('\\n')[:-1]\n",
        "    c = \"\"\n",
        "    for i in b:\n",
        "      if i == ' ':\n",
        "        i = re.sub(r\" \", \"\\n \\n\", i)\n",
        "      c += i\n",
        "      c = re.sub(r\"  \", \"\\n\", c)\n",
        "      output = c\n",
        "  else:\n",
        "    output = a\n",
        "  return output"
      ],
      "metadata": {
        "id": "PxlF4C6-6ZY1"
      },
      "execution_count": null,
      "outputs": []
    },
    {
      "cell_type": "code",
      "source": [
        "# 상기 함수들을 통합해 가사를 생성해주는 함수 완성\n",
        "\n",
        "def ai_lyrics(gen, lyric):\n",
        "  #print(decide_topic(gen,lyric)[0])\n",
        "  result = lyric_generator(decide_topic(gen,lyric)[0],decide_topic(gen,lyric)[1])\n",
        "\n",
        "  for _ in range(10):\n",
        "    if len(result) < 350:\n",
        "      print('길이 재생성이 필요합니다')\n",
        "      result = lyric_generator(decide_topic(gen,lyric)[0],decide_topic(gen,lyric)[1])\n",
        "    else:\n",
        "      break\n",
        "\n",
        "  if decide_regen(result) == 'regenerate':\n",
        "    print('한글 재생성이 필요합니다.')\n",
        "    #print(gen)\n",
        "    output = ai_lyrics(gen, lyric)\n",
        "  else:\n",
        "    output = remove_lastEng(result)\n",
        "\n",
        "  print(output)\n",
        "  return"
      ],
      "metadata": {
        "id": "ofRiIyaT6pMN"
      },
      "execution_count": null,
      "outputs": []
    },
    {
      "cell_type": "markdown",
      "source": [
        "패스트API"
      ],
      "metadata": {
        "id": "UssrMSKN7CbK"
      }
    },
    {
      "cell_type": "code",
      "source": [
        "# 패스트API 설치\n",
        "\n",
        "!pip install fastapi nest-asyncio pyngrok uvicorn aiofiles python-multipart \n",
        "\n",
        "# 패스트API 관련 모듈 불러오기\n",
        "from fastapi import FastAPI, Request, Form\n",
        "from fastapi.responses import HTMLResponse\n",
        "from fastapi.staticfiles import StaticFiles\n",
        "from fastapi.templating import Jinja2Templates\n",
        "import nest_asyncio\n",
        "from pyngrok import ngrok\n",
        "\n",
        "import uvicorn\n",
        "\n",
        "# 사용할 디렉토리 만들기\n",
        "!mkdir templates"
      ],
      "metadata": {
        "id": "2_KqZzq56-_G"
      },
      "execution_count": null,
      "outputs": []
    },
    {
      "cell_type": "code",
      "source": [
        "# 메인 페이지인 input.html 만들기\n",
        "\n",
        "%%writefile templates/input.html\n",
        "<!DOCTYPE html>\n",
        "<html lang=\"en\">\n",
        "    <head>\n",
        "        <meta charset=\"utf-8\" />\n",
        "        <meta http-equiv=\"X-UA-Compatible\" content=\"IE=edge\" />\n",
        "        <meta name=\"viewport\" content=\"width=device-width, initial-scale=1, shrink-to-fit=no\" />\n",
        "        <meta name=\"description\" content=\"\" />\n",
        "        <meta name=\"author\" content=\"\" />\n",
        "        <title>너의 이야기를 들려줘</title>\n",
        "        <!-- Favicon-->\n",
        "        <link rel=\"icon\" type=\"image/x-icon\" href=\"./assets/로고.png\" />\n",
        "        <link href=\"{{ url_for('static', path='/styles.css') }}\" rel=\"stylesheet\" />\n",
        "        <script src=\"https://use.fontawesome.com/releases/v6.1.0/js/all.js\" crossorigin=\"anonymous\"></script>\n",
        "    </head>\n",
        "    <body id=\"page-top\">\n",
        "        <header class=\"masthead d-flex align-items-center\">\n",
        "            <div class=\"container px-4 px-lg-5 text-center\">\n",
        "                <h1>AI 작사가 에이나</h1>\n",
        "                <h3 class=\"mb-5\"><em> </em></h3>\n",
        "          <form action=\"/topic\" method=\"post\">\n",
        "            <h4><strong><label for=\"gen\">발라드와 댄스 중 한 가지 장르를 입력해 주세요</label><br></strong></h4><strong>\n",
        "            <input type=\"text\" id=\"gen\" name=\"gen\" value=\"발라드\"><br>\n",
        "\n",
        "\n",
        "            <p>&nbsp;</p>\n",
        "            <h4><label for=\"lyric\">첫 소절, 또는 도입부를 입력해 주세요</label><br></h4><br>\n",
        "            <div class=\"input-group flex-nowrap\">\n",
        "              <span class=\"input-group-text\" id=\"addon-wrapping\">🎶</span>\n",
        "              <input width=\"500\" class=\"form-control\" type=\"text\" id=\"lyric\" name=\"lyric\" value=\"사랑인가 봐\">\n",
        "            </div>\n",
        "            <p>&nbsp;</p>\n",
        "            <input type=\"submit\" class=\"btn btn-primary btn-xl\" value=\"가사 생성하기\">\n",
        "           \n",
        "            </strong></form></div><strong>\n",
        "        </strong></header><strong>\n",
        "\n",
        "        <section class=\"content-section bg-light\" id=\"주의사항\">\n",
        "            <div class=\"container px-4 px-lg-5 text-center\">\n",
        "                <div class=\"row gx-4 gx-lg-5 justify-content-center\">\n",
        "                    <div class=\"col-lg-10\">\n",
        "                        <h2>주의사항</h2>\n",
        "                        <p class=\"lead mb-5\">\n",
        "                            본 서비스는 K-Digital Trainning 7,8회차 수강생이 만든 것으로 퍼가는 것은 허용되나,<br>가사의 저작권과 관련된 사항은 서비스 이용자 본인에게 책임이 있음을 알려드립니다.\n",
        "                        </p>\n",
        "                    </div>\n",
        "                </div>\n",
        "            </div>\n",
        "        </section>\n",
        "\n",
        "        <section class=\"content-section bg-primary text-white text-center\" id=\"제공예정\">\n",
        "            <div class=\"container px-4 px-lg-5\">\n",
        "                <div class=\"content-section-heading\">\n",
        "                    <h3 class=\"text-secondary mb-0\">comming soon</h3>\n",
        "                    <h2 class=\"mb-5\">제공 예정인 서비스</h2>\n",
        "                </div>\n",
        "                <div class=\"row gx-4 gx-lg-5\">\n",
        "                    <div class=\"col-lg-3 col-md-6 mb-5 mb-lg-0\">\n",
        "                        <span class=\"service-icon rounded-circle mx-auto mb-3\"><i class=\"icon-screen-smartphone\"></i></span>\n",
        "                        <h4><strong>친구와 공유</strong></h4>\n",
        "                        <p class=\"text-faded mb-0\">카톡으로 친구와 함께 해봐요</p>\n",
        "                    </div>\n",
        "                    <div class=\"col-lg-3 col-md-6 mb-5 mb-lg-0\">\n",
        "                        <span class=\"service-icon rounded-circle mx-auto mb-3\"><i class=\"icon-pencil\"></i></span>\n",
        "                        <h4><strong>생성가사 수정</strong></h4>\n",
        "                        <p class=\"text-faded mb-0\">여러분이 생성된 가사를 튜닝 해봐요</p>\n",
        "                    </div>\n",
        "                    <div class=\"col-lg-3 col-md-6 mb-5 mb-md-0\">\n",
        "                        <span class=\"service-icon rounded-circle mx-auto mb-3\"><i class=\"icon-like\"></i></span>\n",
        "                        <h4><strong>AI가수</strong></h4>\n",
        "                        <p class=\"text-faded mb-0\">\n",
        "                            여러분의 가사를 AI가 불러줘요\n",
        "                        </p>\n",
        "                    </div>\n",
        "                    <div class=\"col-lg-3 col-md-6\">\n",
        "                        <span class=\"service-icon rounded-circle mx-auto mb-3\"><i class=\"icon-mustache\"></i></span>\n",
        "                        <h4><strong>서비스센터</strong></h4>\n",
        "                        <p class=\"text-faded mb-0\">불편사항은 시정하겠습니다</p>\n",
        "                    </div>\n",
        "                </div>\n",
        "            </div>\n",
        "        </section>\n",
        "        <!-- Scroll to Top Button-->\n",
        "        <a class=\"scroll-to-top rounded\" href=\"#page-top\"><svg class=\"svg-inline--fa fa-angle-up\" aria-hidden=\"true\" focusable=\"false\" data-prefix=\"fas\" data-icon=\"angle-up\" role=\"img\" xmlns=\"http://www.w3.org/2000/svg\" viewBox=\"0 0 384 512\" data-fa-i2svg=\"\"><path fill=\"currentColor\" d=\"M352 352c-8.188 0-16.38-3.125-22.62-9.375L192 205.3l-137.4 137.4c-12.5 12.5-32.75 12.5-45.25 0s-12.5-32.75 0-45.25l160-160c12.5-12.5 32.75-12.5 45.25 0l160 160c12.5 12.5 12.5 32.75 0 45.25C368.4 348.9 360.2 352 352 352z\"></path></svg><!-- <i class=\"fas fa-angle-up\"></i> Font Awesome fontawesome.com --></a>\n",
        "        <!-- Bootstrap core JS-->\n",
        "        <script src=\"https://cdn.jsdelivr.net/npm/bootstrap@5.1.3/dist/js/bootstrap.bundle.min.js\"></script>\n",
        "        <!-- Core theme JS-->\n",
        "        <script src=\"js/scripts.js\"></script>\n",
        "</strong></body>\n",
        "</html>"
      ],
      "metadata": {
        "id": "Ez2nNRaD7I_X"
      },
      "execution_count": null,
      "outputs": []
    },
    {
      "cell_type": "code",
      "source": [
        "# 결과창인 result.html 만들기\n",
        "\n",
        "%%writefile templates/result.html\n",
        "<!DOCTYPE html>\n",
        "<html lang=\"en\">\n",
        "    <head>\n",
        "        <meta charset=\"utf-8\" />\n",
        "        <meta http-equiv=\"X-UA-Compatible\" content=\"IE=edge\" />\n",
        "        <meta name=\"viewport\" content=\"width=device-width, initial-scale=1, shrink-to-fit=no\" />\n",
        "        <meta name=\"description\" content=\"\" />\n",
        "        <meta name=\"author\" content=\"\" />\n",
        "        <title>너의 이야기를 들려줘</title>\n",
        "        <!-- Favicon-->\n",
        "        <link rel=\"icon\" type=\"image/x-icon\" href=\"./assets/로고.png\" />\n",
        "        <link href=\"{{ url_for('static', path='/styles.css') }}\" rel=\"stylesheet\" />\n",
        "        <script src=\"https://use.fontawesome.com/releases/v6.1.0/js/all.js\" crossorigin=\"anonymous\"></script>\n",
        "    </head>\n",
        "    <body class=\"bg-primary\">\n",
        "    <div class=\"masthead d-flex align-items-center\">\n",
        "      <div class=\"container px-4 px-lg-5 text-center\">\n",
        "        <div id=\"layoutAuthentication\">\n",
        "            <div id=\"layoutAuthentication_content\">\n",
        "                <main>\n",
        "                    <div class=\"container\">\n",
        "                        <div class=\"row justify-content-center\">\n",
        "                                <div class=\"card shadow-lg border-0 rounded-lg mt-5\">\n",
        "                                    <div class=\"card-header\"><h3 class=\"text-center font-weight-light my-4\">생성된 가사입니다.</h3></div>\n",
        "                                    <div class=\"card-body\">\n",
        "                                        <form>\n",
        "                                            <div class=\"form-floating mb-6\">\n",
        "                                                <p style=\"text-align: center;\"><iframe src=\"/static/lyrictxt.txt\" text-align:'center' width=\"500px\" height=\"500px\"></iframe>\n",
        "                                            </div>\n",
        "                                        </form>\n",
        "                                    </div>\n",
        "                                    <div class=\"card-footer text-center py-3\">\n",
        "                                        <div class=\"small\"><a class=\"btn btn-primary\" onclick=\"history.back()\">첫 페이지로</a></div>\n",
        "                                    </div>\n",
        "                                </div>\n",
        "                            </div>\n",
        "                        </div>\n",
        "                    </div>\n",
        "                </main>\n",
        "            </div>\n",
        "        </div>\n",
        "        <script src=\"https://cdn.jsdelivr.net/npm/bootstrap@5.1.3/dist/js/bootstrap.bundle.min.js\" crossorigin=\"anonymous\"></script>\n",
        "        <script src=\"js/scripts.js\"></script>\n",
        "     </div>\n",
        "     </div>\n",
        "    </body>\n",
        "\n",
        "</html>"
      ],
      "metadata": {
        "id": "GdgAIG6b7TT7"
      },
      "execution_count": null,
      "outputs": []
    },
    {
      "cell_type": "code",
      "source": [
        "# Fastapi 연결\n",
        "\n",
        "app=FastAPI()\n",
        "templates = Jinja2Templates(directory=\"templates\")\n",
        "app.mount('/static', StaticFiles(directory='/content/drive/MyDrive/front-end'), name='static')\n",
        "\n",
        "@app.get('/', response_class=HTMLResponse)\n",
        "async def read_topic(request: Request):\n",
        "  return templates.TemplateResponse(\"input.html\", {\"request\": request})\n",
        "\n",
        "@app.post('/topic', response_class=HTMLResponse)\n",
        "async def get_topic(request: Request, gen: str = Form(...), lyric: str = Form(...)):\n",
        "    result = ai_lyrics(gen, lyric)\n",
        "    fn= open(r'/content/drive/MyDrive/front-end/lyrictxt.txt').read()\n",
        "    \n",
        "    return templates.TemplateResponse(\"result.html\", {\"request\": request, 'gen': gen, 'lyric':lyric, 'result':result, 'fn':'/static/lyrictxt.txt'})"
      ],
      "metadata": {
        "id": "oxmM4ViF7Zxs"
      },
      "execution_count": null,
      "outputs": []
    },
    {
      "cell_type": "code",
      "source": [
        "# ngrok 인증 토큰\n",
        "\n",
        "!ngrok authtoken 26P5GB752qi8SGptmLNXiDMrIsl_7GPapdJoaQNmtoGQEqbMk"
      ],
      "metadata": {
        "id": "sTgpqlep7ksZ"
      },
      "execution_count": null,
      "outputs": []
    },
    {
      "cell_type": "code",
      "source": [
        "# ngrok를 사용해 app(FASTAPI)과 연결\n",
        "ngrok_tunnel = ngrok.connect(8000)\n",
        "print ('Public URL:', ngrok_tunnel.public_url) \n",
        "nest_asyncio.apply()\n",
        "uvicorn.run(app, host='0.0.0.0', port=8000)"
      ],
      "metadata": {
        "id": "UEJsMLYc7pQJ"
      },
      "execution_count": null,
      "outputs": []
    }
  ]
}